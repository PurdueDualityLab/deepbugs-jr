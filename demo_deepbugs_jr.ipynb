{
 "cells": [
  {
   "cell_type": "markdown",
   "metadata": {},
   "source": [
    "# How to Use DeepBugs for Yourself\n",
    "Follow along with this notebook to reproduce our replication of DeepBugs, tested on the switched-argument bug (i.e., the developer accidentally typed the arguments in reverse order.)\n",
    "\n",
    "Or, feel free to just check out the pre-saved output - things can take a while to run.\n",
    "\n",
    "You can also use the functions we provide to deploy DeepBugs in your own code!"
   ]
  },
  {
   "cell_type": "markdown",
   "metadata": {},
   "source": [
    "## 1. Round up the source code (~1 hour download)\n",
    "\n",
    "Start by downloading the 150k JavaScript Dataset using the links below. \n",
    "\n",
    "* [Training Data - 10.0GB](https://1drv.ms/u/s!AvvT9f1RiwGbh6hYNoymTrzQcNA46g?e=WeJf3K)\n",
    "* [Testing Data - 4.8GB](https://1drv.ms/u/s!AvvT9f1RiwGbh6hXmjPOUS-kBARjFA?e=AJY1Xf)\n",
    "\n",
    "Save them into the `demo_data` folder."
   ]
  },
  {
   "cell_type": "markdown",
   "metadata": {},
   "source": [
    "## 2. Convert the source code ASTs to tokens (22 minutes)\n",
    "For a given corpus of code, you should have a large list of source files, each of which is converted into an Abstract Syntax Tree (AST).\n",
    "\n",
    "In this example, we convert each AST from the 150k JavaScript Dataset into a list of tokens (e.g., \"ID:setInterval\" or \"LIT:true\"). Those lists are aggregated together into a master list of lists. This list-of-list format is important for training Word2Vec, since each list of tokens corresponds to a single source file -  tokens within a source file are closely related but tokens across source files may not be as closely related.\n",
    "\n",
    "Example:\n",
    "```\n",
    "[\n",
    "    { # Corresponds to first source file\n",
    "        \"ID:setInterval\",\n",
    "        \"LIT:1000\",\n",
    "        \"ID:callbackFn\",\n",
    "        \"LIT:true\",\n",
    "        \"LIT:http-mode\",\n",
    "        ...\n",
    "    },\n",
    "    { # Corresponds to second source file\n",
    "        \"ID:fadeIn\",\n",
    "        \"LIT:300\",\n",
    "        \"ID:css\",\n",
    "        \"LIT:color:red;margin:auto\",\n",
    "        ...\n",
    "    }\n",
    "]\n",
    "```\n",
    "### Note on using our code\n",
    "If you organize your ASTs into one file, such that each line of the file corresponds to one AST, you can just call our ready-to-go `ast_token_extractor.get_tokens_from_corpus()` function as shown below.\n",
    "\n",
    "If you need more fine-grained control, you could use `ast_token_extractor.get_tokens_from()` to extract tokens from each node in a single AST."
   ]
  },
  {
   "cell_type": "code",
   "execution_count": 2,
   "metadata": {},
   "outputs": [
    {
     "name": "stderr",
     "output_type": "stream",
     "text": [
      "100000it [22:00, 75.76it/s]"
     ]
    },
    {
     "name": "stdout",
     "output_type": "stream",
     "text": [
      "Extracted 100000 tokens\n",
      "A few examples...\n",
      "['ID:gTestfile', 'LIT:regress-472450-04.js', 'ID:BUGNUMBER', 'LIT:472450', 'ID:summary', 'LIT:TM: Do not assert: StackBase(fp) + blockDepth == regs.sp', 'ID:actual', 'LIT:', 'ID:expect', 'LIT:', 'ID:test', 'ID:test', 'ID:enterFunc', 'LIT:test', 'ID:printBugNumber', 'ID:BUGNUMBER', 'ID:printStatus', 'ID:summary', 'ID:jit', 'LIT:true', 'ID:__proto__', 'ID:✖', 'LIT:1', 'ID:f', 'ID:eval', \"LIT:for (var y = 0; y < 1; ++y) { for each (let z in [null, function(){}, null, '', null, '', null]) { let x = 1, c = []; } }\", 'ID:f', 'ID:jit', 'LIT:false', 'ID:reportCompare', 'ID:expect', 'ID:actual', 'ID:summary', 'ID:exitFunc', 'LIT:test']\n"
     ]
    },
    {
     "name": "stderr",
     "output_type": "stream",
     "text": [
      "\n"
     ]
    }
   ],
   "source": [
    "from ast_token_extractor import get_tokens_from_corpus\n",
    "\n",
    "TRAIN_DATA_PATH = \"demo_data/150k_training.json\"\n",
    "TEST_DATA_PATH = \"demo_data/150k_testing.json\"\n",
    "\n",
    "list_of_lists_of_tokens = get_tokens_from_corpus(TRAIN_DATA_PATH)\n",
    "\n",
    "# Count the tokens extracted\n",
    "num_tokens_extracted = len([len(tokens_from_single_src_file) for tokens_from_single_src_file in list_of_lists_of_tokens])\n",
    "\n",
    "print(\"Extracted {0} tokens\".format(num_tokens_extracted))\n",
    "print(\"A few examples...\")\n",
    "print(list_of_lists_of_tokens[0])\n"
   ]
  },
  {
   "cell_type": "markdown",
   "metadata": {},
   "source": [
    "## 3. Convert tokens to vectors: train a Word2Vec model (~10 minutes)\n",
    "Now that you have reduced your dataset to lists of tokens, you can use them to train a Word2Vec model so that it predicts a vector for each token based on lexical similarity. In other words, a token of `LIT:true` will be lexically similar to a token of `LIT:1` but not `LIT:false`.\n",
    "\n",
    "We train Word2Vec using the Continuous Bag of Words method with a 200-word window (i.e. for a given token, we use the previous 100 tokens and the following 100 tokens to learn the context of the token). Like the original authors, we limit the vocabulary size to the top 10,000 tokens from the dataset.\n",
    "\n",
    "### Note on using our code\n",
    "As long as you have one list of tokens per source file, aggregated into a master list of all source files, then you can call our ready-made `token2vectorizer.train_word2vec()` function as shown below.\n"
   ]
  },
  {
   "cell_type": "code",
   "execution_count": 4,
   "metadata": {},
   "outputs": [
    {
     "name": "stdout",
     "output_type": "stream",
     "text": [
      "Should be larger difference btwn LIT:true and LIT:false 0.8699683\n",
      "Should be smaller difference btwn LIT:true and LIT:1 0.013210262\n"
     ]
    }
   ],
   "source": [
    "from token2vectorizer import train_word2vec\n",
    "\n",
    "WORD2VEC_MODEL_SAVE_PATH = \"demo_data/word2vec.model\"\n",
    "\n",
    "model = train_word2vec(list_of_lists_of_tokens, WORD2VEC_MODEL_SAVE_PATH)\n",
    "\n",
    "print(\"Should be larger difference btwn LIT:true and LIT:false\", model.wv.similarity(\"LIT:true\", \"LIT:false\"))\n",
    "print(\"Should be smaller difference btwn LIT:true and LIT:1\", model.wv.similarity(\"LIT:true\", \"LIT:1\"))\n"
   ]
  },
  {
   "cell_type": "markdown",
   "metadata": {},
   "source": [
    "## 4. Save your token-vector vocabulary for later\n",
    "To speed things up when you're training and testing DeepBugs, you should save off your learned Word2Vec vocabulary in a dictionary for rapid lookup and sharing. Our `token2vectorizer.save_token2vec_vocabulary()` handles this for you in a jiffy.\n",
    "\n",
    "Example output:\n",
    "```\n",
    "{\n",
    "    \"LIT:true\": [-5.174832   -4.9506106   1.6868128   1.476279   -3.211739   ...],\n",
    "    ...\n",
    "}"
   ]
  },
  {
   "cell_type": "code",
   "execution_count": 5,
   "metadata": {},
   "outputs": [
    {
     "name": "stdout",
     "output_type": "stream",
     "text": [
      "A couple examples...\n",
      "ID:Date:  [2.293358325958252, 2.8205933570861816, -2.336764097213745, -1.6994364261627197, 0.732081949710846, 9.726104736328125, -0.49508002400398254, -8.360478401184082, 0.813254714012146, -3.673178195953369, 1.3742514848709106, 1.2163194417953491, -4.503299713134766, -2.1647446155548096, 5.015124797821045, 5.080772399902344, -7.650942802429199, -1.901321291923523, -0.9393377900123596, -2.431166887283325, -6.784677028656006, 3.32989239692688, -9.29594612121582, 4.371859073638916, -1.702826976776123, -0.5957798361778259, -2.4750595092773438, 2.1724228858947754, -3.6958248615264893, -10.615705490112305, -8.203575134277344, -8.35372257232666, 3.7036781311035156, -1.3913450241088867, 4.563570499420166, -7.413445472717285, -10.156298637390137, 11.29690170288086, -1.2124414443969727, -4.36269474029541, 7.557013511657715, 7.205021381378174, -5.480103492736816, 2.5261998176574707, 9.942569732666016, -2.938769817352295, -2.881113290786743, 0.6350539326667786, 7.1518144607543945, -1.8115655183792114, -5.445388317108154, -0.32252147793769836, 2.967611789703369, -0.29893842339515686, 2.5868773460388184, -6.805789470672607, 6.127438545227051, 2.7236344814300537, 2.1412949562072754, -4.284225940704346, -1.0246113538742065, 9.376241683959961, 9.031956672668457, 11.368850708007812, -3.2384495735168457, -1.8313332796096802, 3.959005355834961, 9.163298606872559, -2.631989002227783, -5.854096412658691, -6.867321014404297, -0.26103445887565613, 0.953507125377655, 0.5277038812637329, -1.9721105098724365, 3.176758050918579, -5.69844913482666, 5.877533435821533, 3.264591932296753, -0.03370847925543785, -10.977357864379883, -0.2148890197277069, 2.327040195465088, 5.346724033355713, 9.584485054016113, -14.790979385375977, -1.305132269859314, -7.1850738525390625, 1.2148120403289795, -1.4507627487182617, -5.469019412994385, -6.464351177215576, -1.6875180006027222, 1.4925072193145752, 5.099029064178467, 2.214478015899658, -2.1500372886657715, 0.4379509389400482, -1.6655808687210083, 4.3936967849731445] \n",
      "\n",
      "ID:end:  [1.1869263648986816, -1.9715991020202637, -5.867895126342773, -6.528461456298828, -1.3476821184158325, 1.2996175289154053, -0.4787454903125763, -4.501010894775391, -2.078137159347534, -5.530372619628906, 2.175330638885498, -10.888704299926758, 1.9010671377182007, 9.32097053527832, 2.361713409423828, 2.825366497039795, 0.7040703296661377, -0.46480125188827515, 4.204615592956543, -2.2179923057556152, 4.479020595550537, 0.9536615610122681, -1.3509405851364136, 4.885961532592773, -6.16084623336792, 0.4438019096851349, -10.441679000854492, 2.2180051803588867, -0.7684441208839417, -9.535555839538574, -2.2168710231781006, 3.2369983196258545, 3.4130773544311523, 3.1072399616241455, 2.401853561401367, 6.953763484954834, 0.06551561504602432, 3.2158844470977783, -0.930109441280365, 0.8912667632102966, -8.221632957458496, 4.345680236816406, -3.6077990531921387, 1.1814848184585571, -5.60231351852417, -1.879486322402954, -5.073476314544678, 5.266139984130859, 1.6511417627334595, 0.6672751307487488, -5.1388654708862305, 0.7431257963180542, -4.888238906860352, -2.944427728652954, -1.1982612609863281, -2.370586633682251, 3.983213424682617, -10.02506160736084, 2.8045315742492676, 3.0626204013824463, 3.22023344039917, 6.45015811920166, -4.136098861694336, 7.771728992462158, 3.093207597732544, 3.8555257320404053, -1.2895697355270386, 5.098707675933838, 5.708857536315918, -0.6857913136482239, 6.295299530029297, -2.2923882007598877, -5.553203105926514, -0.6304565072059631, -1.5942037105560303, -0.9452725648880005, 0.8267667293548584, 2.531144380569458, 1.8423446416854858, -7.940713405609131, 1.7250125408172607, 4.271095275878906, 2.051755666732788, 7.109874725341797, 8.743538856506348, 4.968074798583984, 1.3955543041229248, -3.188974618911743, 6.831956386566162, -2.0969831943511963, -2.961296558380127, -4.141421318054199, -3.7863669395446777, -1.4073231220245361, -3.5051891803741455, -5.3928093910217285, 3.2358627319335938, -7.362634658813477, 4.431220054626465, -5.031256675720215]\n"
     ]
    }
   ],
   "source": [
    "import json\n",
    "from gensim.models import Word2Vec\n",
    "from token2vectorizer import save_token2vec_vocabulary\n",
    "\n",
    "WORD2VEC_MODEL_READ_PATH = \"demo_data/word2vec.model\"\n",
    "VOCAB_SAVE_PATH = \"demo_data/token2vec.json\"\n",
    "\n",
    "model = Word2Vec.load(WORD2VEC_MODEL_READ_PATH)\n",
    "save_token2vec_vocabulary(model, VOCAB_SAVE_PATH)\n",
    "\n",
    "with open(VOCAB_SAVE_PATH) as example_json:\n",
    "    vocab = json.load(example_json)\n",
    "    print(\"A couple examples...\")\n",
    "    print(\"ID:Date: \", vocab[\"ID:Date\"], \"\\n\")\n",
    "    print(\"ID:end: \", vocab[\"ID:end\"])"
   ]
  },
  {
   "cell_type": "markdown",
   "metadata": {},
   "source": [
    "## 5. Generate positive/negative examples (~45 minutes)\n",
    "\n",
    "In our example, we our testing for the switched-argument bug that the DeepBugs authors tested for, so we generate data by extracting all 2-argument function calls from the 150k dataset and then manually switching the arguments around to make \"buggy\" examples.\n",
    "\n",
    "### Note on using our code\n",
    "Our code is specific to switched-argument bugs. For your own bugs, you will need to write your own code to generate positive and negative training/testing examples. You can follow similar procedures to our `swarg_` scripts.\n",
    "\n",
    "We save our examples as `.npz` files, where each file is a `Tuple[List,List]`: `(Data, Labels)`. Both `Data` and `Labels` are numpy arrays of the same length, where `Labels[i]` is 1 for positive, 0 for negative"
   ]
  },
  {
   "cell_type": "code",
   "execution_count": null,
   "metadata": {},
   "outputs": [
    {
     "name": "stderr",
     "output_type": "stream",
     "text": [
      "100000it [33:48, 49.29it/s]\n",
      "8845it [02:47, 48.35it/s] "
     ]
    }
   ],
   "source": [
    "import json\n",
    "from swarg_gen_train_eval import gen_good_bad_fn_args\n",
    "from swarg_fnargs2tokens import get_all_2_arg_fn_calls_from_ast\n",
    "\n",
    "VOCAB_READ_PATH = \"demo_data/token2vec.json\"\n",
    "\n",
    "SWARG_TRAIN_EXAMPLES_SAVE_PATH = \"demo_data/switch_arg_train.npz\"\n",
    "SWARG_TEST_EXAMPLES_SAVE_PATH = \"demo_data/switch_arg_test.npz\"\n",
    "\n",
    "gen_good_bad_fn_args(TRAIN_DATA_PATH, VOCAB_READ_PATH, SWARG_TRAIN_EXAMPLES_SAVE_PATH)\n",
    "gen_good_bad_fn_args(TEST_DATA_PATH, VOCAB_READ_PATH, SWARG_TEST_EXAMPLES_SAVE_PATH)\n"
   ]
  },
  {
   "cell_type": "markdown",
   "metadata": {},
   "source": [
    "## 6. Train DeepBugs (~10 minutes)\n",
    "We use examples generated from the training partition of the 150K JavaScript Dataset."
   ]
  },
  {
   "cell_type": "code",
   "execution_count": 14,
   "metadata": {},
   "outputs": [],
   "source": [
    "from nn_trainer import model\n",
    "\n",
    "train_path = \"demo_data/switch_arg_train.npz\"\n",
    "\n",
    "# load up data\n",
    "with np.load(train_path) as data:\n",
    "    x_data = data['data_x']\n",
    "    y_data = data['labels_y']\n",
    "    print('x_data:'+str( x_data.shape))\n",
    "    print('y_data:'+str( y_data.shape))\n",
    "\n",
    "# cut up data\n",
    "train_p = 2/3\n",
    "train_data_x = x_data[:ceil(len(x_data)*train_p)]\n",
    "train_data_y = y_data[:ceil(len(y_data)*train_p)]\n",
    "val_data_x = x_data[ceil(len(x_data)*train_p):]\n",
    "val_data_y = y_data[ceil(len(y_data)*train_p):]\n",
    "\n",
    "model.compile(loss='binary_crossentropy',\n",
    "              optimizer='rmsprop', \n",
    "              metrics=['accuracy'])\n",
    "\n",
    "model_mdata = model.fit(train_data_x, train_data_y, \n",
    "       validation_data=(val_data_x, val_data_y), \n",
    "       epochs=10, batch_size=100, shuffle=True)\n",
    "\n",
    "model.save('demo_data/deepbug_model_withw2v.keras')\n"
   ]
  },
  {
   "cell_type": "markdown",
   "metadata": {},
   "source": [
    "## 7. Test DeepBugs (<1 minute)\n",
    "We use examples generated from the test partition of the 150K JavaScript Dataset."
   ]
  },
  {
   "cell_type": "code",
   "execution_count": 15,
   "metadata": {},
   "outputs": [],
   "source": [
    "test_path = \"demo_data/switch_arg_test.npz\"\n",
    "with np.load(test_path) as data:\n",
    "      data_test = data['data_x']\n",
    "      labels_test = data['labels_y']\n",
    "\n",
    "model = keras.models.load_model(\"demo_data/deepbug_model.keras\")\n",
    "\n",
    "model_mdata = model.evaluate(data_test, labels_test)\n",
    "\n",
    "print(model_mdata)"
   ]
  }
 ],
 "metadata": {
  "kernelspec": {
   "display_name": "Python 3",
   "language": "python",
   "name": "python3"
  },
  "language_info": {
   "codemirror_mode": {
    "name": "ipython",
    "version": 3
   },
   "file_extension": ".py",
   "mimetype": "text/x-python",
   "name": "python",
   "nbconvert_exporter": "python",
   "pygments_lexer": "ipython3",
   "version": "3.8.5"
  },
  "metadata": {
   "interpreter": {
    "hash": "b484c80a5327703a6fe0da11ec022652aebbf779d66ce1c66dfcc2d4536d1019"
   }
  }
 },
 "nbformat": 4,
 "nbformat_minor": 4
}
